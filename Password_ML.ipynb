{
  "nbformat": 4,
  "nbformat_minor": 0,
  "metadata": {
    "colab": {
      "provenance": []
    },
    "kernelspec": {
      "name": "python3",
      "display_name": "Python 3"
    },
    "language_info": {
      "name": "python"
    }
  },
  "cells": [
    {
      "cell_type": "code",
      "execution_count": null,
      "metadata": {
        "id": "d4mp3L6Olbq3"
      },
      "outputs": [],
      "source": [
        "#importing libraries\n",
        "import pandas as pd\n",
        "import numpy as np\n",
        "from sklearn.model_selection import train_test_split\n",
        "from sklearn.feature_extraction.text import CountVectorizer\n",
        "from sklearn.feature_extraction.text import TfidfVectorizer\n",
        "from sklearn.ensemble import RandomForestClassifier\n",
        "import warnings\n",
        "warnings.filterwarnings(\"ignore\")"
      ]
    },
    {
      "cell_type": "code",
      "source": [
        "data = pd.read_csv('data.csv',on_bad_lines='skip')"
      ],
      "metadata": {
        "id": "5mJ4ylcumnXC"
      },
      "execution_count": null,
      "outputs": []
    },
    {
      "cell_type": "code",
      "source": [
        "print(data.head())"
      ],
      "metadata": {
        "colab": {
          "base_uri": "https://localhost:8080/"
        },
        "id": "KrbqvrFMmuh8",
        "outputId": "1a10fab9-1a76-43e7-902b-256996c842df"
      },
      "execution_count": null,
      "outputs": [
        {
          "output_type": "stream",
          "name": "stdout",
          "text": [
            "      password  strength\n",
            "0     kzde5577         1\n",
            "1     kino3434         1\n",
            "2    visi7k1yr         1\n",
            "3     megzy123         1\n",
            "4  lamborghin1         1\n"
          ]
        }
      ]
    },
    {
      "cell_type": "code",
      "source": [
        "data = data.dropna()"
      ],
      "metadata": {
        "id": "wR0hsi0um9EZ"
      },
      "execution_count": null,
      "outputs": []
    },
    {
      "cell_type": "code",
      "source": [
        "data[\"strength\"] = data[\"strength\"].map({0:\"Weak\",\n",
        "                                         1:\"Medium\",\n",
        "                                         2:\"Strong\"})"
      ],
      "metadata": {
        "id": "hHXFh94OnC3E"
      },
      "execution_count": null,
      "outputs": []
    },
    {
      "cell_type": "code",
      "source": [
        "print(data.sample(5))"
      ],
      "metadata": {
        "colab": {
          "base_uri": "https://localhost:8080/"
        },
        "id": "yR35-PPGnYQK",
        "outputId": "b5637d32-6426-4a5f-e902-f9f859794626"
      },
      "execution_count": null,
      "outputs": [
        {
          "output_type": "stream",
          "name": "stdout",
          "text": [
            "            password strength\n",
            "146660    xwrpetmb65   Medium\n",
            "328016  legado170995   Medium\n",
            "292779     87211995h   Medium\n",
            "49872         amgg90     Weak\n",
            "323540   bionicol123   Medium\n"
          ]
        }
      ]
    },
    {
      "cell_type": "code",
      "source": [
        "#sentence tokenzer - splitting sentences by .\n",
        "#word tokenizer - splitting words by space"
      ],
      "metadata": {
        "id": "3bPf9it4nbqs"
      },
      "execution_count": null,
      "outputs": []
    },
    {
      "cell_type": "code",
      "source": [
        "def word(password):\n",
        "  character = []\n",
        "  for i in password:\n",
        "    character.append(i)\n",
        "  return character"
      ],
      "metadata": {
        "id": "tixZsx7DpLtR"
      },
      "execution_count": null,
      "outputs": []
    },
    {
      "cell_type": "code",
      "source": [
        "x = np.array(data[\"password\"])\n",
        "y = np.array(data[\"strength\"])"
      ],
      "metadata": {
        "id": "DoXLjQlypUjJ"
      },
      "execution_count": null,
      "outputs": []
    },
    {
      "cell_type": "code",
      "source": [
        "#TfidfVectorizer\n",
        "tdif = TfidfVectorizer(tokenizer=word)"
      ],
      "metadata": {
        "id": "AmSMrTfZpfby"
      },
      "execution_count": null,
      "outputs": []
    },
    {
      "cell_type": "code",
      "source": [
        "x = tdif.fit_transform(x) # brain creation"
      ],
      "metadata": {
        "id": "LokO-5ZGp369"
      },
      "execution_count": null,
      "outputs": []
    },
    {
      "cell_type": "code",
      "source": [
        "xtrain, xtest, ytrain, ytest = train_test_split(x, y, test_size=0.05, random_state=42)"
      ],
      "metadata": {
        "id": "GfKX6aHAp_R3"
      },
      "execution_count": null,
      "outputs": []
    },
    {
      "cell_type": "code",
      "source": [
        "model = RandomForestClassifier()\n",
        "model.fit(xtrain, ytrain)\n",
        "print(model.score(xtest, ytest))"
      ],
      "metadata": {
        "colab": {
          "base_uri": "https://localhost:8080/"
        },
        "id": "gvZ6gkHUqX65",
        "outputId": "aefd810b-710d-47e0-dabd-daa3440020ab"
      },
      "execution_count": null,
      "outputs": [
        {
          "output_type": "stream",
          "name": "stdout",
          "text": [
            "0.9565736813810406\n"
          ]
        }
      ]
    },
    {
      "cell_type": "code",
      "source": [
        "import getpass"
      ],
      "metadata": {
        "id": "xMw4v74msqnM"
      },
      "execution_count": null,
      "outputs": []
    },
    {
      "cell_type": "code",
      "source": [
        "user = getpass.getpass(\"Enter the password: \")\n",
        "data = tdif.transform([user]).toarray()\n",
        "output = model.predict(data)\n",
        "print(output)"
      ],
      "metadata": {
        "colab": {
          "base_uri": "https://localhost:8080/"
        },
        "id": "FO_ICaP12osQ",
        "outputId": "e83dfd02-76ff-407d-ead1-eb503ec7c029"
      },
      "execution_count": null,
      "outputs": [
        {
          "output_type": "stream",
          "name": "stdout",
          "text": [
            "Enter the password: ··········\n",
            "['Strong']\n"
          ]
        }
      ]
    },
    {
      "cell_type": "code",
      "source": [],
      "metadata": {
        "id": "kN-daMUB220z"
      },
      "execution_count": null,
      "outputs": []
    }
  ]
}